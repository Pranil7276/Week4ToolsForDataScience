{
    "cells": [
        {
            "metadata": {
                "collapsed": true
            },
            "cell_type": "markdown",
            "source": "# My Jupyter Notebook on IBM Watson Studio"
        },
        {
            "metadata": {},
            "cell_type": "markdown",
            "source": "**Pranil Gavade - Data Scientist**"
        },
        {
            "metadata": {},
            "cell_type": "markdown",
            "source": "*- I'm interested in data sciencia because i really enjoy discover new things working with data, and its fascinating to predict forecasting* "
        },
        {
            "metadata": {},
            "cell_type": "markdown",
            "source": "### My code will add the numbers and display the output"
        },
        {
            "metadata": {},
            "cell_type": "code",
            "source": "1 + 1",
            "execution_count": 8,
            "outputs": [
                {
                    "output_type": "execute_result",
                    "execution_count": 8,
                    "data": {
                        "text/plain": "2"
                    },
                    "metadata": {}
                }
            ]
        },
        {
            "metadata": {},
            "cell_type": "markdown",
            "source": "[Connect with me on LinkedIN](https://www.linkedin.com/in/pranil-gavade/)"
        },
        {
            "metadata": {},
            "cell_type": "markdown",
            "source": "GodOfCricket: \n![alt text](https://pbs.twimg.com/profile_images/1260456676890742786/MzGhbLvr_400x400.jpg \"God of Cricket\")"
        },
        {
            "metadata": {},
            "cell_type": "markdown",
            "source": "~~Nothing is impossoble~~"
        }
    ],
    "metadata": {
        "kernelspec": {
            "name": "python3",
            "display_name": "Python 3.6",
            "language": "python"
        },
        "language_info": {
            "name": "python",
            "version": "3.6.9",
            "mimetype": "text/x-python",
            "codemirror_mode": {
                "name": "ipython",
                "version": 3
            },
            "pygments_lexer": "ipython3",
            "nbconvert_exporter": "python",
            "file_extension": ".py"
        }
    },
    "nbformat": 4,
    "nbformat_minor": 1
}