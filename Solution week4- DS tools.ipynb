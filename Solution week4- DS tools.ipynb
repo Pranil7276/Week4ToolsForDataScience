{
    "cells": [
        {
            "cell_type": "markdown",
            "metadata": {
                "collapsed": true
            },
            "source": "# My Jupyter Notebook on IBM Watson Studio"
        },
        {
            "cell_type": "markdown",
            "metadata": {},
            "source": "**Pranil Gavade - Data Scientist**"
        },
        {
            "cell_type": "markdown",
            "metadata": {},
            "source": "*- I'm interested in data sciencia because i really enjoy discover new things working with data, and its fascinating to predict forecasting* "
        },
        {
            "cell_type": "markdown",
            "metadata": {},
            "source": "### My code will add the numbers and display the output"
        },
        {
            "cell_type": "code",
            "execution_count": 2,
            "metadata": {},
            "outputs": [
                {
                    "data": {
                        "text/plain": "2"
                    },
                    "execution_count": 2,
                    "metadata": {},
                    "output_type": "execute_result"
                }
            ],
            "source": "1 + 1"
        },
        {
            "cell_type": "markdown",
            "metadata": {},
            "source": "[Connect with me on LinkedIN](https://www.linkedin.com/in/pranil-gavade/)"
        },
        {
            "cell_type": "markdown",
            "metadata": {},
            "source": "Inline-style: \n![alt text](https://www.google.com/url?sa=i&url=https%3A%2F%2Fwww.facebook.com%2FSachinTendulkar%2F&psig=AOvVaw1_zyqqSgSJgJiaGJ0XHQmM&ust=1593125439592000&source=images&cd=vfe&ved=0CAIQjRxqFwoTCPD8xvrEm-oCFQAAAAAdAAAAABAD \"God of Cricket\")"
        },
        {
            "cell_type": "markdown",
            "metadata": {},
            "source": "~~Nothing is impossoble~~"
        }
    ],
    "metadata": {
        "kernelspec": {
            "display_name": "Python 3.6",
            "language": "python",
            "name": "python3"
        },
        "language_info": {
            "codemirror_mode": {
                "name": "ipython",
                "version": 3
            },
            "file_extension": ".py",
            "mimetype": "text/x-python",
            "name": "python",
            "nbconvert_exporter": "python",
            "pygments_lexer": "ipython3",
            "version": "3.6.9"
        }
    },
    "nbformat": 4,
    "nbformat_minor": 1
}