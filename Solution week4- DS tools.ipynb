{
    "cells": [
        {
            "cell_type": "markdown",
            "metadata": {
                "collapsed": true
            },
            "source": "# My Jupyter Notebook on IBM Watson Studio"
        },
        {
            "cell_type": "markdown",
            "metadata": {},
            "source": "**Pranil Gavade - Data Scientist**"
        },
        {
            "cell_type": "markdown",
            "metadata": {},
            "source": "*- I'm interested in data sciencia because i really enjoy discover new things working with data, and its fascinating to predict forecasting* "
        },
        {
            "cell_type": "markdown",
            "metadata": {},
            "source": "### My code will add the numbers and display the output"
        },
        {
            "cell_type": "code",
            "execution_count": 7,
            "metadata": {},
            "outputs": [
                {
                    "data": {
                        "text/plain": "2"
                    },
                    "execution_count": 7,
                    "metadata": {},
                    "output_type": "execute_result"
                }
            ],
            "source": "1 + 1"
        },
        {
            "cell_type": "markdown",
            "metadata": {},
            "source": "[Connect with me on LinkedIN](https://www.linkedin.com/in/pranil-gavade/)"
        },
        {
            "cell_type": "markdown",
            "metadata": {},
            "source": "GodOfCricket: \n![alt text](https://pbs.twimg.com/profile_images/1260456676890742786/MzGhbLvr_400x400.jpg \"God of Cricket\")"
        },
        {
            "cell_type": "markdown",
            "metadata": {},
            "source": "~~Nothing is impossoble~~"
        },
        {
            "cell_type": "code",
            "execution_count": null,
            "metadata": {},
            "outputs": [],
            "source": ""
        }
    ],
    "metadata": {
        "kernelspec": {
            "display_name": "Python 3.6",
            "language": "python",
            "name": "python3"
        },
        "language_info": {
            "codemirror_mode": {
                "name": "ipython",
                "version": 3
            },
            "file_extension": ".py",
            "mimetype": "text/x-python",
            "name": "python",
            "nbconvert_exporter": "python",
            "pygments_lexer": "ipython3",
            "version": "3.6.9"
        }
    },
    "nbformat": 4,
    "nbformat_minor": 1
}